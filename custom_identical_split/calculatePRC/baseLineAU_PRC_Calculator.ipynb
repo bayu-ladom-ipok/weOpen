{
 "cells": [
  {
   "cell_type": "code",
   "execution_count": 1,
   "metadata": {},
   "outputs": [],
   "source": [
    "import pandas as pd \n",
    "import matplotlib.pyplot as plt\n",
    "import numpy as np\n",
    "import pandasql as pdsql\n",
    "%matplotlib inline\n",
    "allData =  pd.read_csv(\"allData.csv\") "
   ]
  },
  {
   "cell_type": "code",
   "execution_count": 2,
   "metadata": {},
   "outputs": [],
   "source": [
    "pysql = lambda q: pdsql.sqldf(q, globals())"
   ]
  },
  {
   "cell_type": "code",
   "execution_count": 3,
   "metadata": {},
   "outputs": [],
   "source": [
    "allData.columns = allData.columns.str.replace(' ', '') "
   ]
  },
  {
   "cell_type": "code",
   "execution_count": 4,
   "metadata": {},
   "outputs": [
    {
     "data": {
      "text/html": [
       "<div>\n",
       "<style scoped>\n",
       "    .dataframe tbody tr th:only-of-type {\n",
       "        vertical-align: middle;\n",
       "    }\n",
       "\n",
       "    .dataframe tbody tr th {\n",
       "        vertical-align: top;\n",
       "    }\n",
       "\n",
       "    .dataframe thead th {\n",
       "        text-align: right;\n",
       "    }\n",
       "</style>\n",
       "<table border=\"1\" class=\"dataframe\">\n",
       "  <thead>\n",
       "    <tr style=\"text-align: right;\">\n",
       "      <th></th>\n",
       "      <th>Unnamed:0</th>\n",
       "      <th>ImageIndex</th>\n",
       "      <th>PatientID</th>\n",
       "      <th>FindingLabels</th>\n",
       "      <th>Atelectasis</th>\n",
       "      <th>Cardiomegaly</th>\n",
       "      <th>Effusion</th>\n",
       "      <th>Infiltration</th>\n",
       "      <th>Mass</th>\n",
       "      <th>Nodule</th>\n",
       "      <th>Pneumonia</th>\n",
       "      <th>Pneumothorax</th>\n",
       "      <th>Consolidation</th>\n",
       "      <th>Edema</th>\n",
       "      <th>Emphysema</th>\n",
       "      <th>Fibrosis</th>\n",
       "      <th>Pleural_Thickening</th>\n",
       "      <th>Hernia</th>\n",
       "    </tr>\n",
       "  </thead>\n",
       "  <tbody>\n",
       "    <tr>\n",
       "      <th>0</th>\n",
       "      <td>0</td>\n",
       "      <td>00000001_000.png</td>\n",
       "      <td>1</td>\n",
       "      <td>Cardiomegaly</td>\n",
       "      <td>0</td>\n",
       "      <td>1</td>\n",
       "      <td>0</td>\n",
       "      <td>0</td>\n",
       "      <td>0</td>\n",
       "      <td>0</td>\n",
       "      <td>0</td>\n",
       "      <td>0</td>\n",
       "      <td>0</td>\n",
       "      <td>0</td>\n",
       "      <td>0</td>\n",
       "      <td>0</td>\n",
       "      <td>0</td>\n",
       "      <td>0</td>\n",
       "    </tr>\n",
       "    <tr>\n",
       "      <th>1</th>\n",
       "      <td>1</td>\n",
       "      <td>00000001_001.png</td>\n",
       "      <td>1</td>\n",
       "      <td>Cardiomegaly|Emphysema</td>\n",
       "      <td>0</td>\n",
       "      <td>1</td>\n",
       "      <td>0</td>\n",
       "      <td>0</td>\n",
       "      <td>0</td>\n",
       "      <td>0</td>\n",
       "      <td>0</td>\n",
       "      <td>0</td>\n",
       "      <td>0</td>\n",
       "      <td>0</td>\n",
       "      <td>1</td>\n",
       "      <td>0</td>\n",
       "      <td>0</td>\n",
       "      <td>0</td>\n",
       "    </tr>\n",
       "    <tr>\n",
       "      <th>2</th>\n",
       "      <td>2</td>\n",
       "      <td>00000001_002.png</td>\n",
       "      <td>1</td>\n",
       "      <td>Cardiomegaly|Effusion</td>\n",
       "      <td>0</td>\n",
       "      <td>1</td>\n",
       "      <td>1</td>\n",
       "      <td>0</td>\n",
       "      <td>0</td>\n",
       "      <td>0</td>\n",
       "      <td>0</td>\n",
       "      <td>0</td>\n",
       "      <td>0</td>\n",
       "      <td>0</td>\n",
       "      <td>0</td>\n",
       "      <td>0</td>\n",
       "      <td>0</td>\n",
       "      <td>0</td>\n",
       "    </tr>\n",
       "    <tr>\n",
       "      <th>3</th>\n",
       "      <td>3</td>\n",
       "      <td>00000002_000.png</td>\n",
       "      <td>2</td>\n",
       "      <td>No Finding</td>\n",
       "      <td>0</td>\n",
       "      <td>0</td>\n",
       "      <td>0</td>\n",
       "      <td>0</td>\n",
       "      <td>0</td>\n",
       "      <td>0</td>\n",
       "      <td>0</td>\n",
       "      <td>0</td>\n",
       "      <td>0</td>\n",
       "      <td>0</td>\n",
       "      <td>0</td>\n",
       "      <td>0</td>\n",
       "      <td>0</td>\n",
       "      <td>0</td>\n",
       "    </tr>\n",
       "    <tr>\n",
       "      <th>4</th>\n",
       "      <td>4</td>\n",
       "      <td>00000003_000.png</td>\n",
       "      <td>3</td>\n",
       "      <td>Hernia</td>\n",
       "      <td>0</td>\n",
       "      <td>0</td>\n",
       "      <td>0</td>\n",
       "      <td>0</td>\n",
       "      <td>0</td>\n",
       "      <td>0</td>\n",
       "      <td>0</td>\n",
       "      <td>0</td>\n",
       "      <td>0</td>\n",
       "      <td>0</td>\n",
       "      <td>0</td>\n",
       "      <td>0</td>\n",
       "      <td>0</td>\n",
       "      <td>1</td>\n",
       "    </tr>\n",
       "  </tbody>\n",
       "</table>\n",
       "</div>"
      ],
      "text/plain": [
       "   Unnamed:0        ImageIndex  PatientID           FindingLabels  \\\n",
       "0          0  00000001_000.png          1            Cardiomegaly   \n",
       "1          1  00000001_001.png          1  Cardiomegaly|Emphysema   \n",
       "2          2  00000001_002.png          1   Cardiomegaly|Effusion   \n",
       "3          3  00000002_000.png          2              No Finding   \n",
       "4          4  00000003_000.png          3                  Hernia   \n",
       "\n",
       "   Atelectasis  Cardiomegaly  Effusion  Infiltration  Mass  Nodule  Pneumonia  \\\n",
       "0            0             1         0             0     0       0          0   \n",
       "1            0             1         0             0     0       0          0   \n",
       "2            0             1         1             0     0       0          0   \n",
       "3            0             0         0             0     0       0          0   \n",
       "4            0             0         0             0     0       0          0   \n",
       "\n",
       "   Pneumothorax  Consolidation  Edema  Emphysema  Fibrosis  \\\n",
       "0             0              0      0          0         0   \n",
       "1             0              0      0          1         0   \n",
       "2             0              0      0          0         0   \n",
       "3             0              0      0          0         0   \n",
       "4             0              0      0          0         0   \n",
       "\n",
       "   Pleural_Thickening  Hernia  \n",
       "0                   0       0  \n",
       "1                   0       0  \n",
       "2                   0       0  \n",
       "3                   0       0  \n",
       "4                   0       1  "
      ]
     },
     "execution_count": 4,
     "metadata": {},
     "output_type": "execute_result"
    }
   ],
   "source": [
    "allData.head()"
   ]
  },
  {
   "cell_type": "code",
   "execution_count": 5,
   "metadata": {},
   "outputs": [],
   "source": [
    "str = \"select count(ImageIndex) from allData\""
   ]
  },
  {
   "cell_type": "code",
   "execution_count": 6,
   "metadata": {},
   "outputs": [
    {
     "data": {
      "text/html": [
       "<div>\n",
       "<style scoped>\n",
       "    .dataframe tbody tr th:only-of-type {\n",
       "        vertical-align: middle;\n",
       "    }\n",
       "\n",
       "    .dataframe tbody tr th {\n",
       "        vertical-align: top;\n",
       "    }\n",
       "\n",
       "    .dataframe thead th {\n",
       "        text-align: right;\n",
       "    }\n",
       "</style>\n",
       "<table border=\"1\" class=\"dataframe\">\n",
       "  <thead>\n",
       "    <tr style=\"text-align: right;\">\n",
       "      <th></th>\n",
       "      <th>count(ImageIndex)</th>\n",
       "    </tr>\n",
       "  </thead>\n",
       "  <tbody>\n",
       "    <tr>\n",
       "      <th>0</th>\n",
       "      <td>112120</td>\n",
       "    </tr>\n",
       "  </tbody>\n",
       "</table>\n",
       "</div>"
      ],
      "text/plain": [
       "   count(ImageIndex)\n",
       "0             112120"
      ]
     },
     "execution_count": 6,
     "metadata": {},
     "output_type": "execute_result"
    }
   ],
   "source": [
    "dataCount = pysql(str)\n",
    "dataCount"
   ]
  },
  {
   "cell_type": "code",
   "execution_count": 7,
   "metadata": {},
   "outputs": [],
   "source": [
    "allDataCols = list(allData.columns.values)"
   ]
  },
  {
   "cell_type": "code",
   "execution_count": 8,
   "metadata": {},
   "outputs": [
    {
     "data": {
      "text/plain": [
       "['Unnamed:0',\n",
       " 'ImageIndex',\n",
       " 'PatientID',\n",
       " 'FindingLabels',\n",
       " 'Atelectasis',\n",
       " 'Cardiomegaly',\n",
       " 'Effusion',\n",
       " 'Infiltration',\n",
       " 'Mass',\n",
       " 'Nodule',\n",
       " 'Pneumonia',\n",
       " 'Pneumothorax',\n",
       " 'Consolidation',\n",
       " 'Edema',\n",
       " 'Emphysema',\n",
       " 'Fibrosis',\n",
       " 'Pleural_Thickening',\n",
       " 'Hernia']"
      ]
     },
     "execution_count": 8,
     "metadata": {},
     "output_type": "execute_result"
    }
   ],
   "source": [
    "allDataCols"
   ]
  },
  {
   "cell_type": "code",
   "execution_count": 9,
   "metadata": {},
   "outputs": [
    {
     "data": {
      "text/plain": [
       "'FindingLabels'"
      ]
     },
     "execution_count": 9,
     "metadata": {},
     "output_type": "execute_result"
    }
   ],
   "source": [
    "allDataCols.pop(0)\n",
    "allDataCols.pop(0)\n",
    "allDataCols.pop(0)\n",
    "allDataCols.pop(0)"
   ]
  },
  {
   "cell_type": "code",
   "execution_count": 10,
   "metadata": {},
   "outputs": [
    {
     "name": "stdout",
     "output_type": "stream",
     "text": [
      "select count(Atelectasis) from allData where allData.Atelectasis == 1\n",
      "   count(Atelectasis)\n",
      "0               11559\n",
      "select count(Cardiomegaly) from allData where allData.Cardiomegaly == 1\n",
      "   count(Cardiomegaly)\n",
      "0                 2776\n",
      "select count(Effusion) from allData where allData.Effusion == 1\n",
      "   count(Effusion)\n",
      "0            13317\n",
      "select count(Infiltration) from allData where allData.Infiltration == 1\n",
      "   count(Infiltration)\n",
      "0                19894\n",
      "select count(Mass) from allData where allData.Mass == 1\n",
      "   count(Mass)\n",
      "0         5782\n",
      "select count(Nodule) from allData where allData.Nodule == 1\n",
      "   count(Nodule)\n",
      "0           6331\n",
      "select count(Pneumonia) from allData where allData.Pneumonia == 1\n",
      "   count(Pneumonia)\n",
      "0              1431\n",
      "select count(Pneumothorax) from allData where allData.Pneumothorax == 1\n",
      "   count(Pneumothorax)\n",
      "0                 5302\n",
      "select count(Consolidation) from allData where allData.Consolidation == 1\n",
      "   count(Consolidation)\n",
      "0                  4667\n",
      "select count(Edema) from allData where allData.Edema == 1\n",
      "   count(Edema)\n",
      "0          2303\n",
      "select count(Emphysema) from allData where allData.Emphysema == 1\n",
      "   count(Emphysema)\n",
      "0              2516\n",
      "select count(Fibrosis) from allData where allData.Fibrosis == 1\n",
      "   count(Fibrosis)\n",
      "0             1686\n",
      "select count(Pleural_Thickening) from allData where allData.Pleural_Thickening == 1\n",
      "   count(Pleural_Thickening)\n",
      "0                       3385\n",
      "select count(Hernia) from allData where allData.Hernia == 1\n",
      "   count(Hernia)\n",
      "0            227\n"
     ]
    }
   ],
   "source": [
    "countPositives = []\n",
    "c = len(allDataCols)\n",
    "for i in range(c):\n",
    "    name = allDataCols[i]\n",
    "    myStr = \"select count(\"+name+\") from allData where allData.\"+name+\" == 1\"\n",
    "    print(myStr)\n",
    "    count = pysql(myStr)\n",
    "    print(count)\n",
    "    countPositives.append(int(count[\"count(\"+name+\")\"]))"
   ]
  },
  {
   "cell_type": "code",
   "execution_count": 11,
   "metadata": {},
   "outputs": [
    {
     "data": {
      "text/plain": [
       "[11559,\n",
       " 2776,\n",
       " 13317,\n",
       " 19894,\n",
       " 5782,\n",
       " 6331,\n",
       " 1431,\n",
       " 5302,\n",
       " 4667,\n",
       " 2303,\n",
       " 2516,\n",
       " 1686,\n",
       " 3385,\n",
       " 227]"
      ]
     },
     "execution_count": 11,
     "metadata": {},
     "output_type": "execute_result"
    }
   ],
   "source": [
    "countPositives"
   ]
  },
  {
   "cell_type": "code",
   "execution_count": 12,
   "metadata": {},
   "outputs": [],
   "source": [
    "baselines = []\n",
    "c = len(countPositives)\n",
    "for i in range(c):\n",
    "    baseline = countPositives[i] / 112120\n",
    "    #print(baseline)\n",
    "    baselines.append(float(baseline))"
   ]
  },
  {
   "cell_type": "code",
   "execution_count": 13,
   "metadata": {},
   "outputs": [
    {
     "data": {
      "text/plain": [
       "[0.10309489832322512,\n",
       " 0.024759186585800928,\n",
       " 0.11877452729218695,\n",
       " 0.17743489118801284,\n",
       " 0.05156974669996432,\n",
       " 0.05646628612201213,\n",
       " 0.012763110952550838,\n",
       " 0.04728861933642526,\n",
       " 0.0416250445950767,\n",
       " 0.020540492329646807,\n",
       " 0.022440242597217268,\n",
       " 0.015037459864430967,\n",
       " 0.030190866928291118,\n",
       " 0.0020246164823403494]"
      ]
     },
     "execution_count": 13,
     "metadata": {},
     "output_type": "execute_result"
    }
   ],
   "source": [
    "baselines"
   ]
  },
  {
   "cell_type": "code",
   "execution_count": 14,
   "metadata": {},
   "outputs": [
    {
     "data": {
      "text/plain": [
       "0.05171499923551296"
      ]
     },
     "execution_count": 14,
     "metadata": {},
     "output_type": "execute_result"
    }
   ],
   "source": [
    "np.average(baselines)"
   ]
  },
  {
   "cell_type": "code",
   "execution_count": null,
   "metadata": {},
   "outputs": [],
   "source": []
  }
 ],
 "metadata": {
  "kernelspec": {
   "display_name": "Python 3",
   "language": "python",
   "name": "python3"
  },
  "language_info": {
   "codemirror_mode": {
    "name": "ipython",
    "version": 3
   },
   "file_extension": ".py",
   "mimetype": "text/x-python",
   "name": "python",
   "nbconvert_exporter": "python",
   "pygments_lexer": "ipython3",
   "version": "3.6.7"
  }
 },
 "nbformat": 4,
 "nbformat_minor": 2
}

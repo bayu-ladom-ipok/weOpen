{
 "cells": [
  {
   "cell_type": "code",
   "execution_count": 1,
   "metadata": {},
   "outputs": [],
   "source": [
    "import pandas as pd \n",
    "import matplotlib.pyplot as plt\n",
    "import numpy as np\n",
    "import pandasql as pdsql\n",
    "from sklearn.model_selection import KFold\n",
    "%matplotlib inline\n",
    "allData = pd.read_csv(\"allData.csv\") "
   ]
  },
  {
   "cell_type": "code",
   "execution_count": 2,
   "metadata": {},
   "outputs": [
    {
     "name": "stderr",
     "output_type": "stream",
     "text": [
      "/home/bayu/bay_chest/lib/python3.6/site-packages/ipykernel_launcher.py:4: DeprecationWarning: \n",
      ".ix is deprecated. Please use\n",
      ".loc for label based indexing or\n",
      ".iloc for positional indexing\n",
      "\n",
      "See the documentation here:\n",
      "http://pandas.pydata.org/pandas-docs/stable/indexing.html#ix-indexer-is-deprecated\n",
      "  after removing the cwd from sys.path.\n",
      "/home/bayu/bay_chest/lib/python3.6/site-packages/ipykernel_launcher.py:5: DeprecationWarning: \n",
      ".ix is deprecated. Please use\n",
      ".loc for label based indexing or\n",
      ".iloc for positional indexing\n",
      "\n",
      "See the documentation here:\n",
      "http://pandas.pydata.org/pandas-docs/stable/indexing.html#ix-indexer-is-deprecated\n",
      "  \"\"\"\n"
     ]
    },
    {
     "name": "stdout",
     "output_type": "stream",
     "text": [
      "Fold #1, Training Size: 89696, Test Size: 22424\n",
      "Fold #2, Training Size: 89696, Test Size: 22424\n",
      "Fold #3, Training Size: 89696, Test Size: 22424\n",
      "Fold #4, Training Size: 89696, Test Size: 22424\n",
      "Fold #5, Training Size: 89696, Test Size: 22424\n"
     ]
    }
   ],
   "source": [
    "kf = KFold(5)\n",
    "fold = 1\n",
    "for train_index, validate_index in kf.split(allData):        \n",
    "    notTrainDF = pd.DataFrame(allData.ix[train_index])\n",
    "    trainDF = notTrainDF.sample(frac=0.9, random_state=90)\n",
    "    valDF = notTrainDF[~notTrainDF.index.isin(trainDF.index)]\n",
    "    testDF = pd.DataFrame(allData.ix[validate_index])\n",
    "    print(\"Fold #{}, Training Size: {}, Validation Size: {}, Test Size: {}\".format(fold,len(trainDF),len(valDF),len(testDF)))\n",
    "    trainDF.to_csv(\"train\"+str(fold)+\".csv\", encoding='utf-8')\n",
    "    testDF.to_csv(\"test\"+str(fold)+\".csv\", encoding='utf-8')\n",
    "    fold+=1"
   ]
  },
  {
   "cell_type": "code",
   "execution_count": null,
   "metadata": {},
   "outputs": [],
   "source": []
  }
 ],
 "metadata": {
  "kernelspec": {
   "display_name": "Python 3",
   "language": "python",
   "name": "python3"
  },
  "language_info": {
   "codemirror_mode": {
    "name": "ipython",
    "version": 3
   },
   "file_extension": ".py",
   "mimetype": "text/x-python",
   "name": "python",
   "nbconvert_exporter": "python",
   "pygments_lexer": "ipython3",
   "version": "3.6.7"
  }
 },
 "nbformat": 4,
 "nbformat_minor": 2
}
